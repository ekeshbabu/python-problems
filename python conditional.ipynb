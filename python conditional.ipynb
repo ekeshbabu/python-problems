{
 "cells": [
  {
   "cell_type": "code",
   "execution_count": 2,
   "id": "1caa37d8",
   "metadata": {},
   "outputs": [
    {
     "name": "stdout",
     "output_type": "stream",
     "text": [
      "15,16,17,18,19,20,21,23,25,"
     ]
    }
   ],
   "source": [
    "for x in range(15,26):\n",
    "    \n",
    "    if x % 10 !=2 and x % 10 !=4:\n",
    "        print(x,end =\",\")"
   ]
  },
  {
   "cell_type": "code",
   "execution_count": 3,
   "id": "898c7a87",
   "metadata": {},
   "outputs": [
    {
     "name": "stdout",
     "output_type": "stream",
     "text": [
      "Enter the variable x 9\n",
      "sort\n"
     ]
    }
   ],
   "source": [
    "x = int(input(\"Enter the variable x \"))\n",
    "if x>=1 and x<=10:\n",
    "    print(\"sort\")\n",
    "elif x>=11 and x<=50:\n",
    "    print(\"medium\")\n",
    "elif x>=50 and x<=100:\n",
    "    print(\"long\")\n",
    "else:\n",
    "    print(\"very long\")\n"
   ]
  },
  {
   "cell_type": "code",
   "execution_count": 4,
   "id": "8ca20f1f",
   "metadata": {},
   "outputs": [
    {
     "name": "stdout",
     "output_type": "stream",
     "text": [
      "90\n",
      "80\n",
      "70\n",
      "60\n",
      "50\n",
      "40\n",
      "30\n",
      "20\n",
      "10\n"
     ]
    }
   ],
   "source": [
    "n = 90\n",
    "x = 10\n",
    "y = 10\n",
    "\n",
    "for i in range(n,1,-1):\n",
    "    if(i%x==0):\n",
    "        print(i)\n",
    "        y-=1\n",
    "        if(y==0):\n",
    "            break"
   ]
  },
  {
   "cell_type": "code",
   "execution_count": 24,
   "id": "e78ceabe",
   "metadata": {},
   "outputs": [
    {
     "name": "stdout",
     "output_type": "stream",
     "text": [
      "enter the characterz\n",
      "showcase 5\n"
     ]
    }
   ],
   "source": [
    "a=input(\"enter the character\")[0]\n",
    "a=a.upper()\n",
    "if ord(a)>=65 and ord(a)<=69:\n",
    "    print(\"showcase 1\")\n",
    "elif ord(a)>=69 and ord(a)<=74:\n",
    "    print(\"showcase 2\")\n",
    "elif ord(a)>=74 and ord(a)<=79:\n",
    "    print(\"showcase 3\")\n",
    "elif ord(a)>=79 and ord(a)<=84:\n",
    "    print(\"showcase 4\")\n",
    "else:\n",
    "    print(\"showcase 5\")"
   ]
  },
  {
   "cell_type": "code",
   "execution_count": null,
   "id": "52eeff69",
   "metadata": {},
   "outputs": [],
   "source": []
  },
  {
   "cell_type": "code",
   "execution_count": null,
   "id": "985deaa8",
   "metadata": {},
   "outputs": [],
   "source": []
  }
 ],
 "metadata": {
  "kernelspec": {
   "display_name": "Python 3 (ipykernel)",
   "language": "python",
   "name": "python3"
  },
  "language_info": {
   "codemirror_mode": {
    "name": "ipython",
    "version": 3
   },
   "file_extension": ".py",
   "mimetype": "text/x-python",
   "name": "python",
   "nbconvert_exporter": "python",
   "pygments_lexer": "ipython3",
   "version": "3.9.7"
  }
 },
 "nbformat": 4,
 "nbformat_minor": 5
}
