{
 "cells": [
  {
   "cell_type": "code",
   "execution_count": 11,
   "id": "2eaae806",
   "metadata": {},
   "outputs": [
    {
     "name": "stdout",
     "output_type": "stream",
     "text": [
      "Enter the number:2\n",
      "2 2\n"
     ]
    }
   ],
   "source": [
    "n = int(input(\"Enter the number:\"))\n",
    "result = 1\n",
    "for i in range (n,0,-1):\n",
    "    result = result *i\n",
    "print(n,result)\n"
   ]
  },
  {
   "cell_type": "code",
   "execution_count": 7,
   "id": "8c5fbe2d",
   "metadata": {},
   "outputs": [
    {
     "name": "stdout",
     "output_type": "stream",
     "text": [
      "Enter the variable x 7\n",
      "Enter the variable y 9\n",
      "the value of x 9\n",
      "the value of y 7\n"
     ]
    }
   ],
   "source": [
    "x = int(input(\"Enter the variable x \"))\n",
    "y = int(input(\"Enter the variable y \"))\n",
    "\n",
    "temp = x\n",
    "x = y\n",
    "y = temp\n",
    "\n",
    "print(\"the value of x\",x)\n",
    "print(\"the value of y\",y)\n",
    "\n",
    "\n"
   ]
  },
  {
   "cell_type": "code",
   "execution_count": 15,
   "id": "7262b760",
   "metadata": {},
   "outputs": [
    {
     "name": "stdout",
     "output_type": "stream",
     "text": [
      "the random number of 3\n"
     ]
    }
   ],
   "source": [
    "import random\n",
    "\n",
    "n = random.randint(1,100)\n",
    "print(\"the random number of\",n)"
   ]
  },
  {
   "cell_type": "code",
   "execution_count": 28,
   "id": "dd04889c",
   "metadata": {},
   "outputs": [
    {
     "name": "stdout",
     "output_type": "stream",
     "text": [
      "enter the number8\n",
      "its not prime number\n"
     ]
    }
   ],
   "source": [
    "number = int(input(\"enter the number\"))\n",
    "if number>1:\n",
    "    for i in range(2,number):\n",
    "        if (number%i)==0:\n",
    "            print(\"its not prime number\")\n",
    "            break\n",
    "    else:\n",
    "        print(\"its prime number\")\n",
    "else:\n",
    "    print(\"its prime number\")\n",
    "   \n",
    "   \n",
    "    \n"
   ]
  },
  {
   "cell_type": "code",
   "execution_count": 26,
   "id": "4d80dd10",
   "metadata": {},
   "outputs": [
    {
     "name": "stdout",
     "output_type": "stream",
     "text": [
      "4 3\n"
     ]
    }
   ],
   "source": [
    "a=3\n",
    "b=4\n",
    "a,b=b,a\n",
    "print(a,b)"
   ]
  },
  {
   "cell_type": "code",
   "execution_count": 27,
   "id": "5d9f2c4f",
   "metadata": {},
   "outputs": [
    {
     "name": "stdout",
     "output_type": "stream",
     "text": [
      "the random number of 1\n"
     ]
    }
   ],
   "source": [
    "import random\n",
    "\n",
    "n = random.randint(0,1)\n",
    "print(\"the random number of\",n)"
   ]
  },
  {
   "cell_type": "code",
   "execution_count": null,
   "id": "63ad9519",
   "metadata": {},
   "outputs": [],
   "source": []
  }
 ],
 "metadata": {
  "kernelspec": {
   "display_name": "Python 3 (ipykernel)",
   "language": "python",
   "name": "python3"
  },
  "language_info": {
   "codemirror_mode": {
    "name": "ipython",
    "version": 3
   },
   "file_extension": ".py",
   "mimetype": "text/x-python",
   "name": "python",
   "nbconvert_exporter": "python",
   "pygments_lexer": "ipython3",
   "version": "3.9.7"
  }
 },
 "nbformat": 4,
 "nbformat_minor": 5
}
